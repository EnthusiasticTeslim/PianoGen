{
 "cells": [
  {
   "cell_type": "markdown",
   "metadata": {},
   "source": [
    "# Critic"
   ]
  },
  {
   "cell_type": "code",
   "execution_count": 1,
   "metadata": {},
   "outputs": [],
   "source": [
    "from hw1 import Critic, MidiCriticDataProcessor"
   ]
  },
  {
   "cell_type": "code",
   "execution_count": 2,
   "metadata": {},
   "outputs": [
    {
     "name": "stdout",
     "output_type": "stream",
     "text": [
      "Testing critic ...\n"
     ]
    }
   ],
   "source": [
    "# Test code for critic\n",
    "print(\"Testing critic ...\")\n",
    "processor = MidiCriticDataProcessor(data_directory='.')\n",
    "train_loader, test_loader = processor.prepare_data()"
   ]
  },
  {
   "cell_type": "markdown",
   "metadata": {},
   "source": [
    "#### Train new model"
   ]
  },
  {
   "cell_type": "code",
   "execution_count": 3,
   "metadata": {},
   "outputs": [
    {
     "name": "stdout",
     "output_type": "stream",
     "text": [
      "Loading critic data ...\n"
     ]
    }
   ],
   "source": [
    "print(\"Loading critic data ...\")\n",
    "criticTr = Critic(load_trained=False)"
   ]
  },
  {
   "cell_type": "code",
   "execution_count": 4,
   "metadata": {},
   "outputs": [
    {
     "data": {
      "text/plain": [
       "tensor([196., 259., 256., 197., 260., 256., 373.,  92., 370.,  80., 256., 366.,\n",
       "         65., 220., 256., 208., 261., 256., 193., 256., 363.,  67., 259., 256.,\n",
       "        195., 363.,  69., 260., 256., 197., 261., 256., 366.,  68., 259., 256.,\n",
       "        196., 366.,  66., 261., 256., 194., 257., 365.,  65., 261., 256., 193.,\n",
       "        256., 362.,  67., 258., 256., 365.,  69., 257., 195., 260., 256., 197.,\n",
       "        258., 256.,  70., 259., 256., 198., 256., 365.,  68., 260., 256., 364.,\n",
       "         66., 256., 196., 259., 256., 194., 258., 256., 366.,  65., 261., 256.,\n",
       "        365.,  67., 193., 260., 256., 195., 256., 363.,  69., 258., 256., 364.,\n",
       "         70., 257., 256., 197., 257., 198., 256., 364.,  68., 260., 256., 365.,\n",
       "         66., 256., 196., 260., 256., 194., 257., 256., 366.,  65., 262., 364.,\n",
       "         67., 258., 256., 193., 258., 256., 195., 365.,  70., 362.,  69., 259.,\n",
       "        256., 198., 364.,  68., 256., 367.,  66., 257., 196., 256., 194., 261.,\n",
       "        256., 197., 261., 256., 373.,  98., 371.,  86., 368.,  65., 256., 226.,\n",
       "        256., 214., 261., 256., 366.,  67., 256., 193., 258., 256., 364.,  69.,\n",
       "        195., 260., 256., 197., 256., 368.,  70., 259., 256., 198., 256., 366.,\n",
       "         68., 260., 256., 366.,  66., 196., 260., 256., 194., 258., 256., 364.,\n",
       "         65., 259., 256., 365.,  67., 257., 193., 259., 256.], device='cuda:0')"
      ]
     },
     "execution_count": 4,
     "metadata": {},
     "output_type": "execute_result"
    }
   ],
   "source": [
    "test_loader.dataset[0][0]"
   ]
  },
  {
   "cell_type": "code",
   "execution_count": 6,
   "metadata": {},
   "outputs": [
    {
     "name": "stdout",
     "output_type": "stream",
     "text": [
      "Training critic ...\n",
      "Start training..........CV index: 0\n",
      "Epoch 0/10, CV 0/5 Train Loss: 0.692735, Val Loss: 0.692026\n",
      "Epoch 1/10, CV 0/5 Train Loss: 0.691386, Val Loss: 0.685758\n",
      "Epoch 2/10, CV 0/5 Train Loss: 0.644364, Val Loss: 0.267816\n",
      "Epoch 3/10, CV 0/5 Train Loss: 0.541842, Val Loss: 0.205733\n",
      "Epoch 4/10, CV 0/5 Train Loss: 0.476684, Val Loss: 0.193053\n",
      "Epoch 5/10, CV 0/5 Train Loss: 0.431254, Val Loss: 0.185262\n",
      "Epoch 6/10, CV 0/5 Train Loss: 0.397910, Val Loss: 0.174309\n",
      "Epoch 7/10, CV 0/5 Train Loss: 0.371574, Val Loss: 0.166195\n",
      "Epoch 8/10, CV 0/5 Train Loss: 0.350224, Val Loss: 0.158351\n",
      "Epoch 9/10, CV 0/5 Train Loss: 0.332300, Val Loss: 0.154476\n",
      "Start training..........CV index: 1\n",
      "Epoch 0/10, CV 1/5 Train Loss: 0.154241, Val Loss: 0.172470\n",
      "Epoch 1/10, CV 1/5 Train Loss: 0.150781, Val Loss: 0.157418\n",
      "Epoch 2/10, CV 1/5 Train Loss: 0.146905, Val Loss: 0.151367\n",
      "Epoch 3/10, CV 1/5 Train Loss: 0.143718, Val Loss: 0.144010\n",
      "Epoch 4/10, CV 1/5 Train Loss: 0.140530, Val Loss: 0.134630\n",
      "Epoch 5/10, CV 1/5 Train Loss: 0.137657, Val Loss: 0.130587\n",
      "Epoch 6/10, CV 1/5 Train Loss: 0.135028, Val Loss: 0.126880\n",
      "Epoch 7/10, CV 1/5 Train Loss: 0.132629, Val Loss: 0.122708\n",
      "Epoch 8/10, CV 1/5 Train Loss: 0.130468, Val Loss: 0.122147\n",
      "Epoch 9/10, CV 1/5 Train Loss: 0.128437, Val Loss: 0.113804\n",
      "Start training..........CV index: 2\n",
      "Epoch 0/10, CV 2/5 Train Loss: 0.106397, Val Loss: 0.111692\n",
      "Epoch 1/10, CV 2/5 Train Loss: 0.105633, Val Loss: 0.109632\n",
      "Epoch 2/10, CV 2/5 Train Loss: 0.104655, Val Loss: 0.104158\n",
      "Epoch 3/10, CV 2/5 Train Loss: 0.103653, Val Loss: 0.100725\n",
      "Epoch 4/10, CV 2/5 Train Loss: 0.102518, Val Loss: 0.101709\n",
      "Epoch 5/10, CV 2/5 Train Loss: 0.101457, Val Loss: 0.099144\n",
      "Epoch 6/10, CV 2/5 Train Loss: 0.100335, Val Loss: 0.096860\n",
      "Epoch 7/10, CV 2/5 Train Loss: 0.099432, Val Loss: 0.095410\n",
      "Epoch 8/10, CV 2/5 Train Loss: 0.098423, Val Loss: 0.091727\n",
      "Epoch 9/10, CV 2/5 Train Loss: 0.097368, Val Loss: 0.092370\n",
      "Start training..........CV index: 3\n",
      "Epoch 0/10, CV 3/5 Train Loss: 0.086627, Val Loss: 0.084149\n",
      "Epoch 1/10, CV 3/5 Train Loss: 0.086619, Val Loss: 0.079439\n",
      "Epoch 2/10, CV 3/5 Train Loss: 0.085693, Val Loss: 0.077737\n",
      "Epoch 3/10, CV 3/5 Train Loss: 0.084655, Val Loss: 0.076953\n",
      "Epoch 4/10, CV 3/5 Train Loss: 0.083867, Val Loss: 0.074382\n",
      "Epoch 5/10, CV 3/5 Train Loss: 0.082967, Val Loss: 0.073670\n",
      "Epoch 6/10, CV 3/5 Train Loss: 0.082047, Val Loss: 0.072709\n",
      "Epoch 7/10, CV 3/5 Train Loss: 0.081120, Val Loss: 0.071778\n",
      "Epoch 8/10, CV 3/5 Train Loss: 0.080228, Val Loss: 0.072882\n",
      "Epoch 9/10, CV 3/5 Train Loss: 0.079361, Val Loss: 0.069220\n",
      "Start training..........CV index: 4\n",
      "Epoch 0/10, CV 4/5 Train Loss: 0.069042, Val Loss: 0.067674\n",
      "Epoch 1/10, CV 4/5 Train Loss: 0.067965, Val Loss: 0.068275\n",
      "Epoch 2/10, CV 4/5 Train Loss: 0.067479, Val Loss: 0.067897\n",
      "Epoch 3/10, CV 4/5 Train Loss: 0.066826, Val Loss: 0.064141\n",
      "Epoch 4/10, CV 4/5 Train Loss: 0.066114, Val Loss: 0.061887\n",
      "Epoch 5/10, CV 4/5 Train Loss: 0.065524, Val Loss: 0.062696\n",
      "Epoch 6/10, CV 4/5 Train Loss: 0.064738, Val Loss: 0.060203\n",
      "Epoch 7/10, CV 4/5 Train Loss: 0.064040, Val Loss: 0.059816\n",
      "Epoch 8/10, CV 4/5 Train Loss: 0.063307, Val Loss: 0.056633\n",
      "Epoch 9/10, CV 4/5 Train Loss: 0.062618, Val Loss: 0.059728\n",
      "Finished training ...Model saved\n"
     ]
    }
   ],
   "source": [
    "Train2Save = True\n",
    "if Train2Save: # Task 1: For training the predictor \n",
    "    print(\"Training critic ...\")\n",
    "    criticTr.train2save(train_loader, epochs=10, fold=5)\n",
    "else: # Task 2: For testing the possible test code from professor\n",
    "    epoch = 50\n",
    "    for i in range(epoch):\n",
    "        print(f\"Epoch: {i}/{epoch}\")\n",
    "        for x in train_loader:\n",
    "            criticTr.train(x)"
   ]
  },
  {
   "cell_type": "markdown",
   "metadata": {},
   "source": [
    "#### Use petrained model"
   ]
  },
  {
   "cell_type": "code",
   "execution_count": 64,
   "metadata": {},
   "outputs": [
    {
     "data": {
      "text/plain": [
       "LSTMCritic(\n",
       "  (embedding): Embedding(382, 10)\n",
       "  (lstm): LSTM(10, 128, num_layers=3, batch_first=True, dropout=0.2)\n",
       "  (fc): Linear(in_features=128, out_features=2, bias=True)\n",
       ")"
      ]
     },
     "execution_count": 64,
     "metadata": {},
     "output_type": "execute_result"
    }
   ],
   "source": [
    "# print(\"Loading critic model ...\")\n",
    "# critic = Critic(load_trained=True)\n",
    "from hw1 import LSTMCritic\n",
    "import torch\n",
    "import torch.nn as nn\n",
    "\n",
    "device = torch.device(\"cuda\" if torch.cuda.is_available() else (\"mps\" if torch.backends.mps.is_available() else \"cpu\"))\n",
    "model = LSTMCritic().to(device)\n",
    "state_dict = torch.load('critick.pth').state_dict()\n",
    "model.load_state_dict(state_dict)\n",
    "model.eval()"
   ]
  },
  {
   "cell_type": "code",
   "execution_count": 65,
   "metadata": {},
   "outputs": [
    {
     "name": "stdout",
     "output_type": "stream",
     "text": [
      "torch.Size([5, 201])\n"
     ]
    },
    {
     "data": {
      "text/plain": [
       "tensor([[196, 259, 256,  ..., 193, 259, 256],\n",
       "        [171, 256, 216,  ..., 207, 366,  62],\n",
       "        [ 26, 266, 358,  ..., 256, 370,  84],\n",
       "        [ 61, 258, 256,  ..., 259, 256, 363],\n",
       "        [238, 276, 256,  ..., 177, 260, 256]], device='cuda:0')"
      ]
     },
     "execution_count": 65,
     "metadata": {},
     "output_type": "execute_result"
    }
   ],
   "source": [
    "x = test_loader.dataset[0:5][0].to(device).long()\n",
    "print(x.shape)\n",
    "x"
   ]
  },
  {
   "cell_type": "code",
   "execution_count": 66,
   "metadata": {},
   "outputs": [
    {
     "name": "stdout",
     "output_type": "stream",
     "text": [
      "tensor([0, 0, 1, 0, 1], device='cuda:0')\n"
     ]
    }
   ],
   "source": [
    "with torch.set_grad_enabled(False):\n",
    "        \n",
    "    outputs = model_(x)\n",
    "    outputs = torch.argmax(outputs, dim=1) # label 1 is good and label 0 is bad\n",
    "\n",
    "print(outputs)"
   ]
  },
  {
   "cell_type": "code",
   "execution_count": 67,
   "metadata": {},
   "outputs": [],
   "source": [
    "import glob\n",
    "from midi2seq import process_midi_seq, random_piano\n",
    "\n",
    "dir_ = '.'\n",
    "maxlen = 200\n",
    "\n",
    "all_midis = glob.glob(f'{dir_}/maestro-v1.0.0/2004/*.midi')\n",
    "good_music_midi = process_midi_seq(all_midis=all_midis, datadir=dir_, n=100, maxlen=maxlen)\n",
    "good_music = torch.tensor(good_music_midi, dtype=torch.float32)\n",
    "\n",
    "\n",
    "bad_music_midi = [random_piano(n=maxlen) for _ in range(len(all_midis))]\n",
    "bad_music_midi = process_midi_seq(all_midis=bad_music_midi, datadir=dir_, n=100, maxlen=maxlen)\n",
    "bad_music = torch.tensor(bad_music_midi, dtype=torch.float32)\n",
    "\n",
    "all_data = torch.cat([good_music, bad_music], dim=0)"
   ]
  },
  {
   "cell_type": "code",
   "execution_count": 69,
   "metadata": {},
   "outputs": [
    {
     "data": {
      "text/plain": [
       "(torch.Size([406, 201]), torch.Size([110, 201]), torch.Size([516, 201]))"
      ]
     },
     "execution_count": 69,
     "metadata": {},
     "output_type": "execute_result"
    }
   ],
   "source": [
    "good_music.shape, bad_music.shape, all_data.shape"
   ]
  },
  {
   "cell_type": "code",
   "execution_count": 76,
   "metadata": {},
   "outputs": [
    {
     "name": "stdout",
     "output_type": "stream",
     "text": [
      "tensor([1, 1, 1, 1, 1, 1, 1, 1, 1, 1, 1, 1, 1, 1, 1, 1, 1, 1, 1, 1, 1, 1, 1, 1,\n",
      "        1, 1, 1, 1, 1, 1, 1, 1, 1, 1, 1, 1, 1, 1, 1, 1, 1, 1, 1, 1, 1, 1, 1, 1,\n",
      "        1, 1, 1, 1, 1, 1, 1, 1, 1, 1, 1, 1, 1, 1, 1, 1, 1, 1, 1, 1, 1, 1, 1, 1,\n",
      "        1, 1, 1, 1, 1, 1, 1, 1, 1, 1, 1, 1, 1, 1, 1, 1, 1, 1, 1, 1, 1, 1, 1, 1,\n",
      "        1, 1, 1, 1, 1, 1, 1, 1, 1, 1, 1, 1, 1, 1, 1, 1, 1, 1, 1, 1, 1, 1, 1, 1,\n",
      "        1, 1, 1, 1, 1, 1, 1, 1, 1, 1, 1, 0, 1, 1, 1, 1, 1, 1, 1, 1, 1, 0, 1, 1,\n",
      "        1, 1, 1, 1, 1, 0, 1, 1, 1, 1, 1, 1, 1, 1, 1, 1, 1, 1, 1, 1, 1, 1, 1, 1,\n",
      "        1, 1, 1, 1, 1, 1, 1, 1, 1, 1, 1, 1, 1, 1, 1, 1, 1, 1, 1, 1, 1, 1, 1, 1,\n",
      "        1, 1, 1, 1, 1, 1, 1, 1, 1, 1, 1, 1, 1, 1, 1, 1, 1, 1, 1, 1, 1, 1, 1, 1,\n",
      "        1, 1, 1, 1, 1, 1, 1, 1, 1, 1, 1, 1, 1, 1, 1, 1, 1, 1, 1, 1, 1, 1, 1, 1,\n",
      "        1, 1, 1, 1, 1, 1, 1, 1, 1, 1, 1, 1, 1, 1, 1, 1, 1, 1, 1, 1, 1, 1, 1, 1,\n",
      "        1, 1, 1, 1, 1, 1, 1, 1, 1, 1, 1, 1, 1, 1, 1, 1, 1, 1, 1, 1, 1, 1, 1, 1,\n",
      "        1, 1, 1, 1, 1, 1, 1, 1, 1, 1, 1, 1, 1, 1, 1, 1, 1, 1, 1, 1, 1, 1, 1, 1,\n",
      "        1, 1, 1, 1, 1, 1, 1, 1, 1, 1, 1, 1, 1, 1, 1, 1, 1, 1, 1, 1, 1, 1, 1, 1,\n",
      "        1, 1, 1, 1, 1, 1, 1, 1, 1, 1, 1, 1, 1, 1, 1, 1, 1, 1, 1, 1, 1, 1, 1, 1,\n",
      "        1, 1, 1, 1, 1, 1, 1, 1, 1, 1, 1, 1, 1, 1, 1, 1, 1, 1, 1, 1, 1, 1, 1, 1,\n",
      "        1, 1, 1, 1, 1, 1, 1, 1, 1, 1, 1, 1, 1, 1, 1, 1, 1, 1, 1, 1, 1, 1, 0, 0,\n",
      "        0, 0, 0, 0, 0, 0, 0, 0, 0, 0, 0, 0, 0, 0, 0, 0, 0, 0, 0, 0, 0, 0, 0, 0,\n",
      "        0, 0, 0, 0, 0, 0, 0, 0, 0, 0, 0, 0, 0, 0, 0, 0, 0, 0, 0, 0, 0, 0, 0, 0,\n",
      "        0, 0, 0, 0, 0, 0, 0, 0, 0, 0, 0, 0, 0, 0, 0, 0, 0, 0, 0, 0, 0, 0, 0, 0,\n",
      "        0, 0, 0, 0, 0, 0, 0, 0, 0, 0, 0, 0, 0, 0, 0, 0, 0, 0, 0, 0, 0, 0, 0, 0,\n",
      "        0, 0, 0, 0, 0, 0, 0, 0, 0, 0, 0, 1], device='cuda:0')\n"
     ]
    }
   ],
   "source": [
    "with torch.set_grad_enabled(False):\n",
    "        \n",
    "    outputs = torch.argmax(model_(all_data.to(device).long()), dim=1)\n",
    "\n",
    "    outputs ^= 1 # 1 is bad and 0 is good\n",
    "\n",
    "print(outputs)"
   ]
  },
  {
   "cell_type": "code",
   "execution_count": 81,
   "metadata": {},
   "outputs": [
    {
     "data": {
      "text/plain": [
       "tensor([1, 0, 0, 0, 0, 0, 0, 0, 0, 0, 0, 0, 0, 0, 0, 0, 0, 0, 0, 0, 0, 0, 0, 0,\n",
       "        0, 0, 0, 0, 0, 0, 0, 0, 0, 0, 0, 0, 0, 0, 0, 0, 0, 0, 0, 0, 0, 0, 0, 0,\n",
       "        0, 0, 0, 0, 0, 0, 0, 0, 0, 0, 0, 0, 0, 0, 0, 0, 0, 0, 0, 0, 0, 0, 0, 0,\n",
       "        0, 0, 0, 0, 0, 0, 0, 0, 0, 0, 0, 0, 0, 0, 0, 0, 0, 0, 0, 0, 0, 0, 0, 0,\n",
       "        0, 0, 0, 0, 0, 0, 0, 0, 0, 0, 0, 0, 0, 0, 1], device='cuda:0')"
      ]
     },
     "execution_count": 81,
     "metadata": {},
     "output_type": "execute_result"
    }
   ],
   "source": [
    "outputs_total[405:]"
   ]
  },
  {
   "cell_type": "code",
   "execution_count": 49,
   "metadata": {},
   "outputs": [],
   "source": [
    "import numpy as np\n",
    "np.savetxt('good_music.txt', outputs_total.cpu().numpy())"
   ]
  },
  {
   "cell_type": "markdown",
   "metadata": {},
   "source": [
    "### Download model from remote"
   ]
  },
  {
   "cell_type": "code",
   "execution_count": null,
   "metadata": {},
   "outputs": [],
   "source": [
    "from google_drive_downloader import GoogleDriveDownloader as get_model\n",
    "from hw1 import LSTMCritic\n",
    "\n",
    "\n",
    "import torch\n",
    "import torch.nn as nn\n",
    "\n",
    "device = torch.device(\"cuda\" if torch.cuda.is_available() else (\"mps\" if torch.backends.mps.is_available() else \"cpu\"))\n",
    "download_model = LSTMCritic().to(device)\n"
   ]
  },
  {
   "cell_type": "code",
   "execution_count": null,
   "metadata": {},
   "outputs": [],
   "source": [
    "get_model.download_file_from_google_drive(file_id='1PCdNigWgslTn6SuqKxsSY7iUhNF_gfb0',\n",
    "                                    dest_path='./critic.pth',\n",
    "                                    unzip=True)\n",
    "state_dict = torch.load('critic.pth').state_dict()\n",
    "download_model.load_state_dict(state_dict)\n",
    "\n",
    "download_model.eval()"
   ]
  },
  {
   "cell_type": "markdown",
   "metadata": {},
   "source": [
    "# Composer"
   ]
  },
  {
   "cell_type": "code",
   "execution_count": null,
   "metadata": {},
   "outputs": [],
   "source": [
    "from hw1 import Composer"
   ]
  },
  {
   "cell_type": "code",
   "execution_count": null,
   "metadata": {},
   "outputs": [],
   "source": [
    "import torch\n",
    "import glob\n",
    "from midi2seq import process_midi_seq\n",
    "from torch.utils.data import Dataset, DataLoader, TensorDataset"
   ]
  },
  {
   "cell_type": "code",
   "execution_count": null,
   "metadata": {},
   "outputs": [],
   "source": [
    "device = torch.device(\"cuda\" if torch.cuda.is_available() else (\"mps\" if torch.backends.mps.is_available() else \"cpu\"))\n",
    "all_midis = glob.glob(f'./maestro-v1.0.0/**/*.midi')\n",
    "\n",
    "good_music_midi = process_midi_seq(all_midis=all_midis, datadir='.', n=10000, maxlen=200)"
   ]
  },
  {
   "cell_type": "markdown",
   "metadata": {},
   "source": [
    "### 1. For Training"
   ]
  },
  {
   "cell_type": "code",
   "execution_count": null,
   "metadata": {},
   "outputs": [],
   "source": [
    "cps = Composer()"
   ]
  },
  {
   "cell_type": "code",
   "execution_count": null,
   "metadata": {},
   "outputs": [],
   "source": [
    "from hw1 import ComposerDataset"
   ]
  },
  {
   "cell_type": "code",
   "execution_count": null,
   "metadata": {},
   "outputs": [],
   "source": [
    "sequence_length = 100\n",
    "batch_size = 32\n",
    "\n",
    "data_loader = ComposerDataset(good_music_midi, sequence_length)\n",
    "data_loader = DataLoader(data_loader, batch_size, shuffle=True)"
   ]
  },
  {
   "cell_type": "code",
   "execution_count": null,
   "metadata": {},
   "outputs": [],
   "source": [
    "cps.train2save(data_loader, epochs=10)"
   ]
  },
  {
   "cell_type": "code",
   "execution_count": null,
   "metadata": {},
   "outputs": [],
   "source": []
  },
  {
   "cell_type": "markdown",
   "metadata": {},
   "source": [
    "### 2. For Test code"
   ]
  },
  {
   "cell_type": "code",
   "execution_count": null,
   "metadata": {},
   "outputs": [],
   "source": [
    "torch.from_numpy(good_music_midi).shape"
   ]
  },
  {
   "cell_type": "code",
   "execution_count": null,
   "metadata": {},
   "outputs": [],
   "source": [
    "# piano_seq = torch.from_numpy(good_music_midi)\n",
    "# loader = DataLoader(TensorDataset(piano_seq), shuffle=True, batch_size=32)\n",
    "# epochs = 10\n",
    "# cps = Composer()\n",
    "# for i in range(epochs):\n",
    "#     for x in loader:\n",
    "#         cps.train(x[0].cuda(0).long())\n",
    "            \n",
    "# midi = cps.compose(100)\n",
    "# midi = seq2piano(midi)\n",
    "# midi.write('piano1.midi')"
   ]
  }
 ],
 "metadata": {
  "kernelspec": {
   "display_name": "pianoGen",
   "language": "python",
   "name": "python3"
  },
  "language_info": {
   "codemirror_mode": {
    "name": "ipython",
    "version": 3
   },
   "file_extension": ".py",
   "mimetype": "text/x-python",
   "name": "python",
   "nbconvert_exporter": "python",
   "pygments_lexer": "ipython3",
   "version": "3.9.18"
  }
 },
 "nbformat": 4,
 "nbformat_minor": 2
}
