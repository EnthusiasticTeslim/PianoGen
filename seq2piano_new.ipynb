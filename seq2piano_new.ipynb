{
 "cells": [
  {
   "cell_type": "code",
   "execution_count": 1,
   "metadata": {},
   "outputs": [],
   "source": [
    "import torch\n",
    "import torch.nn as nn\n",
    "from torch.utils.data import Dataset, DataLoader\n",
    "import numpy as np\n"
   ]
  },
  {
   "cell_type": "code",
   "execution_count": 15,
   "metadata": {},
   "outputs": [],
   "source": [
    "# Load sequences\n",
    "music_sequences = np.load('good_music_midi.npy')\n",
    "\n",
    "class MusicDataset(Dataset):\n",
    "    def __init__(self, music_sequences, sequence_length):\n",
    "        self.music_sequences = music_sequences\n",
    "        self.sequence_length = sequence_length\n",
    "        \n",
    "    def __len__(self):\n",
    "        return len(self.music_sequences) - self.sequence_length\n",
    "    \n",
    "    def __getitem__(self, idx):\n",
    "        sequence = self.music_sequences[idx, 0:self.sequence_length]\n",
    "        target = self.music_sequences[idx, 1:self.sequence_length+1]\n",
    "        return torch.tensor(sequence, dtype=torch.long), torch.tensor(target, dtype=torch.long)\n",
    "\n",
    "class MusicLSTM(nn.Module):\n",
    "    def __init__(self, input_size, hidden_size, output_size, num_layers):\n",
    "        super(MusicLSTM, self).__init__()\n",
    "        self.embedding = nn.Embedding(input_size, hidden_size)\n",
    "        self.lstm = nn.LSTM(hidden_size, hidden_size, num_layers, batch_first=True)\n",
    "        self.fc = nn.Linear(hidden_size, output_size)\n",
    "        \n",
    "    def forward(self, x):\n",
    "        x = self.embedding(x)\n",
    "        x, _ = self.lstm(x)\n",
    "        x = self.fc(x)\n",
    "        return x\n",
    "\n",
    "# def train(model, data_loader, epochs, learning_rate):\n",
    "#     criterion = nn.CrossEntropyLoss()\n",
    "#     optimizer = torch.optim.Adam(model.parameters(), lr=learning_rate)\n",
    "    \n",
    "#     for epoch in range(epochs):\n",
    "#         for i, (sequence, target) in enumerate(data_loader):\n",
    "#             optimizer.zero_grad()\n",
    "#             outputs = model(sequence)\n",
    "#             loss = criterion(outputs.view(-1, outputs.shape[2]), target.view(-1))\n",
    "#             loss.backward()\n",
    "#             optimizer.step()\n",
    "            \n",
    "#             if (i+1) % 100 == 0:\n",
    "#                 print(f'Epoch[{epoch+1}/{epochs}], Step[{i+1}/{len(data_loader)}], Loss: {loss.item():.4f}')\n",
    "\n",
    "def train(model, data_loader, epochs, learning_rate, device):\n",
    "    criterion = nn.CrossEntropyLoss()\n",
    "    optimizer = torch.optim.Adam(model.parameters(), lr=learning_rate)\n",
    "    losses = []\n",
    "    for epoch in range(epochs):\n",
    "        for i, (sequence, target) in enumerate(data_loader):\n",
    "            sequence, target = sequence.to(device), target.to(device)  # Move tensors to the device\n",
    "            \n",
    "            optimizer.zero_grad()\n",
    "            outputs = model(sequence)\n",
    "            loss = criterion(outputs.view(-1, outputs.shape[2]), target.view(-1))\n",
    "            loss.backward()\n",
    "            optimizer.step()\n",
    "            \n",
    "            losses.append(loss.item())\n",
    "            \n",
    "            if (i+1) % 50 == 0:\n",
    "                print(f'Epoch[{epoch+1}/{epochs}], Step[{i+1}/{len(data_loader)}], Loss: {loss.item():.4f}')\n",
    "                \n",
    "    return losses\n",
    "\n",
    "\n",
    "\n"
   ]
  },
  {
   "cell_type": "code",
   "execution_count": 16,
   "metadata": {},
   "outputs": [
    {
     "name": "stdout",
     "output_type": "stream",
     "text": [
      "cuda\n",
      "Epoch[1/30], Step[50/88], Loss: 3.7625\n",
      "Epoch[2/30], Step[50/88], Loss: 3.3546\n",
      "Epoch[3/30], Step[50/88], Loss: 3.0883\n",
      "Epoch[4/30], Step[50/88], Loss: 2.7514\n",
      "Epoch[5/30], Step[50/88], Loss: 2.6003\n",
      "Epoch[6/30], Step[50/88], Loss: 2.4027\n",
      "Epoch[7/30], Step[50/88], Loss: 2.2894\n",
      "Epoch[8/30], Step[50/88], Loss: 2.1476\n",
      "Epoch[9/30], Step[50/88], Loss: 2.0192\n",
      "Epoch[10/30], Step[50/88], Loss: 1.8870\n",
      "Epoch[11/30], Step[50/88], Loss: 1.7721\n",
      "Epoch[12/30], Step[50/88], Loss: 1.6113\n",
      "Epoch[13/30], Step[50/88], Loss: 1.4836\n",
      "Epoch[14/30], Step[50/88], Loss: 1.3763\n",
      "Epoch[15/30], Step[50/88], Loss: 1.2663\n",
      "Epoch[16/30], Step[50/88], Loss: 1.1645\n",
      "Epoch[17/30], Step[50/88], Loss: 1.0901\n",
      "Epoch[18/30], Step[50/88], Loss: 0.9547\n",
      "Epoch[19/30], Step[50/88], Loss: 0.8394\n",
      "Epoch[20/30], Step[50/88], Loss: 0.7713\n",
      "Epoch[21/30], Step[50/88], Loss: 0.6852\n",
      "Epoch[22/30], Step[50/88], Loss: 0.5827\n",
      "Epoch[23/30], Step[50/88], Loss: 0.5450\n",
      "Epoch[24/30], Step[50/88], Loss: 0.4681\n",
      "Epoch[25/30], Step[50/88], Loss: 0.4052\n",
      "Epoch[26/30], Step[50/88], Loss: 0.3558\n",
      "Epoch[27/30], Step[50/88], Loss: 0.3079\n",
      "Epoch[28/30], Step[50/88], Loss: 0.2741\n",
      "Epoch[29/30], Step[50/88], Loss: 0.2390\n",
      "Epoch[30/30], Step[50/88], Loss: 0.2030\n"
     ]
    }
   ],
   "source": [
    "# Hyperparameters\n",
    "input_size = 382\n",
    "hidden_size = 512\n",
    "output_size = input_size\n",
    "num_layers = 2\n",
    "sequence_length = 100\n",
    "batch_size = 64\n",
    "epochs = 30\n",
    "learning_rate = 0.001\n",
    "\n",
    "device = torch.device('cuda' if torch.cuda.is_available() else 'cpu')\n",
    "print(device)\n",
    "# Dataset and DataLoader\n",
    "data_loader = MusicDataset(music_sequences, sequence_length)\n",
    "data_loader = DataLoader(data_loader, batch_size=batch_size, shuffle=True)\n",
    "\n",
    "# Model\n",
    "model = MusicLSTM(input_size, hidden_size, output_size, num_layers)\n",
    "model.to(device)\n",
    "\n",
    "# Train the model\n",
    "losses = train(model, data_loader, epochs, learning_rate, device)"
   ]
  },
  {
   "cell_type": "code",
   "execution_count": 14,
   "metadata": {},
   "outputs": [
    {
     "data": {
      "text/plain": [
       "[<matplotlib.lines.Line2D at 0x7f038da342b0>]"
      ]
     },
     "execution_count": 14,
     "metadata": {},
     "output_type": "execute_result"
    },
    {
     "data": {
      "image/png": "[encoded data removed]",
      "text/plain": [
       "<Figure size 640x480 with 1 Axes>"
      ]
     },
     "metadata": {},
     "output_type": "display_data"
    }
   ],
   "source": [
    "import matplotlib.pyplot as plt \n",
    "\n",
    "plt.plot(losses)"
   ]
  },
  {
   "cell_type": "code",
   "execution_count": 17,
   "metadata": {},
   "outputs": [],
   "source": [
    "from model_base import ComposerBase "
   ]
  },
  {
   "cell_type": "code",
   "execution_count": 34,
   "metadata": {},
   "outputs": [],
   "source": [
    "class Composer(ComposerBase):\n",
    "    def __init__(self, model, vocab_size, device):\n",
    "        super().__init__()\n",
    "        self.model = model\n",
    "        self.vocab_size = vocab_size\n",
    "        self.device = device\n",
    "\n",
    "    def compose(self, n, temperature=1.0):\n",
    "        self.model.eval()  # Set the model to evaluation mode\n",
    "        \n",
    "        generated_sequence = [np.random.randint(self.vocab_size)]\n",
    "        with torch.no_grad():\n",
    "            for _ in range(n):\n",
    "                input_tensor = torch.tensor([generated_sequence[-1]], dtype=torch.long).to(self.device)\n",
    "                input_tensor = input_tensor.unsqueeze(0)  # Add batch dimension\n",
    "                \n",
    "                output = self.model(input_tensor)\n",
    "                output = output.squeeze().div(temperature).exp()\n",
    "                next_note = torch.multinomial(output, 1).item()\n",
    "                \n",
    "                generated_sequence.append(next_note)\n",
    "\n",
    "        return np.array(generated_sequence)\n",
    "    \n",
    "    def train(self, x):\n",
    "        pass"
   ]
  },
  {
   "cell_type": "code",
   "execution_count": 35,
   "metadata": {},
   "outputs": [],
   "source": [
    "composer = Composer(model, input_size, device)"
   ]
  },
  {
   "cell_type": "code",
   "execution_count": 36,
   "metadata": {},
   "outputs": [
    {
     "data": {
      "text/plain": [
       "array([376,  86, 373,  63, 260, 256, 191, 256, 157, 257, 194, 259, 256,\n",
       "       202, 214, 256, 363,  76, 257, 368,  65,  87, 256, 366,  84, 257,\n",
       "       256,  95, 214, 257, 256, 167, 259, 256, 192, 257, 178, 256, 202,\n",
       "       267, 357,  69, 370,  69, 256, 176, 263, 195, 261, 256, 195, 207,\n",
       "       363,  68, 257, 192, 257, 369,  45, 256, 366,  45, 256, 178, 256,\n",
       "       369,  86, 259, 256, 369,  65, 275, 256, 199, 256, 371,  34, 257,\n",
       "       368,  76, 257, 188, 185, 259, 256, 369,  69, 261, 256, 204, 219,\n",
       "       256, 369,  39, 335, 256, 376,  69, 370,  69, 199])"
      ]
     },
     "execution_count": 36,
     "metadata": {},
     "output_type": "execute_result"
    }
   ],
   "source": [
    "composer.compose(100)"
   ]
  },
  {
   "cell_type": "code",
   "execution_count": 37,
   "metadata": {},
   "outputs": [],
   "source": [
    "from midi2seq import seq2piano "
   ]
  },
  {
   "cell_type": "code",
   "execution_count": 39,
   "metadata": {},
   "outputs": [
    {
     "name": "stderr",
     "output_type": "stream",
     "text": [
      "DEBUG:up without down for pitch 50 at time 0\n",
      "DEBUG:up without down for pitch 55 at time 0\n",
      "DEBUG:consecutive downs for pitch 75 at time 0 and 0\n",
      "DEBUG:up without down for pitch 57 at time 0\n",
      "DEBUG:up without down for pitch 48 at time 0\n",
      "DEBUG:up without down for pitch 48 at time 1\n",
      "DEBUG:up without down for pitch 71 at time 1\n",
      "DEBUG:up without down for pitch 49 at time 1\n",
      "DEBUG:up without down for pitch 100 at time 1\n",
      "DEBUG:up without down for pitch 100 at time 1\n",
      "DEBUG:up without down for pitch 67 at time 1\n",
      "DEBUG:consecutive downs for pitch 86 at time 1 and 1\n",
      "DEBUG:up without down for pitch 74 at time 1\n",
      "DEBUG:note with non-positive duration for pitch 91 at time 1\n",
      "DEBUG:up without down for pitch 47 at time 1\n",
      "DEBUG:up without down for pitch 91 at time 1\n",
      "DEBUG:consecutive downs for pitch 48 at time 2 and 2\n",
      "DEBUG:consecutive downs for pitch 64 at time 0 and 2\n",
      "DEBUG:up without down for pitch 63 at time 2\n",
      "DEBUG:up without down for pitch 72 at time 2\n",
      "DEBUG:up without down for pitch 77 at time 2\n",
      "DEBUG:up without down for pitch 72 at time 2\n",
      "DEBUG:up without down for pitch 79 at time 2\n",
      "DEBUG:up without down for pitch 67 at time 2\n",
      "DEBUG:up without down for pitch 84 at time 2\n",
      "DEBUG:consecutive downs for pitch 86 at time 1 and 3\n",
      "DEBUG:up without down for pitch 63 at time 3\n",
      "DEBUG:consecutive downs for pitch 86 at time 1 and 3\n",
      "DEBUG:consecutive downs for pitch 86 at time 1 and 3\n",
      "DEBUG:up without down for pitch 50 at time 3\n",
      "DEBUG:up without down for pitch 93 at time 3\n",
      "DEBUG:up without down for pitch 43 at time 3\n",
      "DEBUG:up without down for pitch 49 at time 3\n",
      "DEBUG:up without down for pitch 37 at time 3\n",
      "DEBUG:up without down for pitch 100 at time 3\n",
      "DEBUG:consecutive downs for pitch 86 at time 1 and 3\n",
      "DEBUG:up without down for pitch 37 at time 3\n",
      "DEBUG:up without down for pitch 49 at time 3\n",
      "DEBUG:up without down for pitch 50 at time 4\n",
      "DEBUG:up without down for pitch 87 at time 4\n",
      "DEBUG:up without down for pitch 46 at time 4\n",
      "DEBUG:up without down for pitch 46 at time 4\n",
      "DEBUG:up without down for pitch 68 at time 4\n",
      "DEBUG:up without down for pitch 53 at time 4\n",
      "DEBUG:up without down for pitch 76 at time 4\n"
     ]
    }
   ],
   "source": [
    "midi_obj = seq2piano(composer.compose(200))\n",
    "midi_obj.write('test.mid')"
   ]
  }
 ],
 "metadata": {
  "kernelspec": {
   "display_name": "Python 3",
   "language": "python",
   "name": "python3"
  },
  "language_info": {
   "codemirror_mode": {
    "name": "ipython",
    "version": 3
   },
   "file_extension": ".py",
   "mimetype": "text/x-python",
   "name": "python",
   "nbconvert_exporter": "python",
   "pygments_lexer": "ipython3",
   "version": "3.10.12"
  }
 },
 "nbformat": 4,
 "nbformat_minor": 2
}
